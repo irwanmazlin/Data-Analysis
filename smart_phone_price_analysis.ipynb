{
  "nbformat": 4,
  "nbformat_minor": 0,
  "metadata": {
    "colab": {
      "provenance": [],
      "mount_file_id": "1oJT5rTrXevvCCP49sbu_HrywtRd_SlNy",
      "authorship_tag": "ABX9TyO0qv3WB/63kcC0x40BUP4s",
      "include_colab_link": true
    },
    "kernelspec": {
      "name": "python3",
      "display_name": "Python 3"
    },
    "language_info": {
      "name": "python"
    }
  },
  "cells": [
    {
      "cell_type": "markdown",
      "metadata": {
        "id": "view-in-github",
        "colab_type": "text"
      },
      "source": [
        "<a href=\"https://colab.research.google.com/github/irwanmazlin/Data-Analysis/blob/Master/smart_phone_price_analysis.ipynb\" target=\"_parent\"><img src=\"https://colab.research.google.com/assets/colab-badge.svg\" alt=\"Open In Colab\"/></a>"
      ]
    },
    {
      "cell_type": "code",
      "execution_count": 35,
      "metadata": {
        "id": "XOcqQiUOuvrB"
      },
      "outputs": [],
      "source": [
        "import pandas as pd\n",
        "import matplotlib.pyplot as plt\n",
        "import seaborn as sns\n",
        "import numpy as np\n",
        "sns.set_theme(color_codes=True)\n",
        "\n",
        "\n"
      ]
    },
    {
      "cell_type": "code",
      "source": [
        "data = pd.read_csv('/content/drive/MyDrive/Madam Khusyairi PhD Study/Mobile phone price.csv')\n",
        "data"
      ],
      "metadata": {
        "colab": {
          "base_uri": "https://localhost:8080/",
          "height": 424
        },
        "id": "rgaH0hsYwYfc",
        "outputId": "4c8c5aea-f2f9-48b0-9352-f77100c64dde"
      },
      "execution_count": 36,
      "outputs": [
        {
          "output_type": "execute_result",
          "data": {
            "text/plain": [
              "       Brand              Model Storage    RAM  Screen Size (inches)  \\\n",
              "0      Apple      iPhone 13 Pro   128 GB   6 GB                  6.1   \n",
              "1    Samsung   Galaxy S21 Ultra   256 GB  12 GB                  6.8   \n",
              "2    OnePlus              9 Pro   128 GB   8 GB                  6.7   \n",
              "3     Xiaomi  Redmi Note 10 Pro   128 GB   6 GB                 6.67   \n",
              "4     Google            Pixel 6   128 GB   8 GB                  6.4   \n",
              "..       ...                ...      ...    ...                  ...   \n",
              "402  Samsung   Galaxy Note20 5G      128      8                  6.7   \n",
              "403   Xiaomi      Mi 10 Lite 5G      128      6                 6.57   \n",
              "404    Apple  iPhone 12 Pro Max      128      6                  6.7   \n",
              "405     Oppo              Reno3      128      8                  6.4   \n",
              "406  Samsung    Galaxy S10 Lite      128      6                  6.7   \n",
              "\n",
              "            Camera (MP)  Battery Capacity (mAh) Price ($)  \n",
              "0          12 + 12 + 12                    3095       999  \n",
              "1    108 + 10 + 10 + 12                    5000      1199  \n",
              "2       48 + 50 + 8 + 2                    4500       899  \n",
              "3        64 + 8 + 5 + 2                    5020       279  \n",
              "4             50 + 12.2                    4614       799  \n",
              "..                  ...                     ...       ...  \n",
              "402            12+64+12                    4300      1049  \n",
              "403            48+8+2+2                    4160       349  \n",
              "404            12+12+12                    3687      1099  \n",
              "405           48+13+8+2                    4025       429  \n",
              "406             48+12+5                    4500       649  \n",
              "\n",
              "[407 rows x 8 columns]"
            ],
            "text/html": [
              "\n",
              "  <div id=\"df-ee79ab02-3e10-4b7a-bd0f-e06c62052694\">\n",
              "    <div class=\"colab-df-container\">\n",
              "      <div>\n",
              "<style scoped>\n",
              "    .dataframe tbody tr th:only-of-type {\n",
              "        vertical-align: middle;\n",
              "    }\n",
              "\n",
              "    .dataframe tbody tr th {\n",
              "        vertical-align: top;\n",
              "    }\n",
              "\n",
              "    .dataframe thead th {\n",
              "        text-align: right;\n",
              "    }\n",
              "</style>\n",
              "<table border=\"1\" class=\"dataframe\">\n",
              "  <thead>\n",
              "    <tr style=\"text-align: right;\">\n",
              "      <th></th>\n",
              "      <th>Brand</th>\n",
              "      <th>Model</th>\n",
              "      <th>Storage</th>\n",
              "      <th>RAM</th>\n",
              "      <th>Screen Size (inches)</th>\n",
              "      <th>Camera (MP)</th>\n",
              "      <th>Battery Capacity (mAh)</th>\n",
              "      <th>Price ($)</th>\n",
              "    </tr>\n",
              "  </thead>\n",
              "  <tbody>\n",
              "    <tr>\n",
              "      <th>0</th>\n",
              "      <td>Apple</td>\n",
              "      <td>iPhone 13 Pro</td>\n",
              "      <td>128 GB</td>\n",
              "      <td>6 GB</td>\n",
              "      <td>6.1</td>\n",
              "      <td>12 + 12 + 12</td>\n",
              "      <td>3095</td>\n",
              "      <td>999</td>\n",
              "    </tr>\n",
              "    <tr>\n",
              "      <th>1</th>\n",
              "      <td>Samsung</td>\n",
              "      <td>Galaxy S21 Ultra</td>\n",
              "      <td>256 GB</td>\n",
              "      <td>12 GB</td>\n",
              "      <td>6.8</td>\n",
              "      <td>108 + 10 + 10 + 12</td>\n",
              "      <td>5000</td>\n",
              "      <td>1199</td>\n",
              "    </tr>\n",
              "    <tr>\n",
              "      <th>2</th>\n",
              "      <td>OnePlus</td>\n",
              "      <td>9 Pro</td>\n",
              "      <td>128 GB</td>\n",
              "      <td>8 GB</td>\n",
              "      <td>6.7</td>\n",
              "      <td>48 + 50 + 8 + 2</td>\n",
              "      <td>4500</td>\n",
              "      <td>899</td>\n",
              "    </tr>\n",
              "    <tr>\n",
              "      <th>3</th>\n",
              "      <td>Xiaomi</td>\n",
              "      <td>Redmi Note 10 Pro</td>\n",
              "      <td>128 GB</td>\n",
              "      <td>6 GB</td>\n",
              "      <td>6.67</td>\n",
              "      <td>64 + 8 + 5 + 2</td>\n",
              "      <td>5020</td>\n",
              "      <td>279</td>\n",
              "    </tr>\n",
              "    <tr>\n",
              "      <th>4</th>\n",
              "      <td>Google</td>\n",
              "      <td>Pixel 6</td>\n",
              "      <td>128 GB</td>\n",
              "      <td>8 GB</td>\n",
              "      <td>6.4</td>\n",
              "      <td>50 + 12.2</td>\n",
              "      <td>4614</td>\n",
              "      <td>799</td>\n",
              "    </tr>\n",
              "    <tr>\n",
              "      <th>...</th>\n",
              "      <td>...</td>\n",
              "      <td>...</td>\n",
              "      <td>...</td>\n",
              "      <td>...</td>\n",
              "      <td>...</td>\n",
              "      <td>...</td>\n",
              "      <td>...</td>\n",
              "      <td>...</td>\n",
              "    </tr>\n",
              "    <tr>\n",
              "      <th>402</th>\n",
              "      <td>Samsung</td>\n",
              "      <td>Galaxy Note20 5G</td>\n",
              "      <td>128</td>\n",
              "      <td>8</td>\n",
              "      <td>6.7</td>\n",
              "      <td>12+64+12</td>\n",
              "      <td>4300</td>\n",
              "      <td>1049</td>\n",
              "    </tr>\n",
              "    <tr>\n",
              "      <th>403</th>\n",
              "      <td>Xiaomi</td>\n",
              "      <td>Mi 10 Lite 5G</td>\n",
              "      <td>128</td>\n",
              "      <td>6</td>\n",
              "      <td>6.57</td>\n",
              "      <td>48+8+2+2</td>\n",
              "      <td>4160</td>\n",
              "      <td>349</td>\n",
              "    </tr>\n",
              "    <tr>\n",
              "      <th>404</th>\n",
              "      <td>Apple</td>\n",
              "      <td>iPhone 12 Pro Max</td>\n",
              "      <td>128</td>\n",
              "      <td>6</td>\n",
              "      <td>6.7</td>\n",
              "      <td>12+12+12</td>\n",
              "      <td>3687</td>\n",
              "      <td>1099</td>\n",
              "    </tr>\n",
              "    <tr>\n",
              "      <th>405</th>\n",
              "      <td>Oppo</td>\n",
              "      <td>Reno3</td>\n",
              "      <td>128</td>\n",
              "      <td>8</td>\n",
              "      <td>6.4</td>\n",
              "      <td>48+13+8+2</td>\n",
              "      <td>4025</td>\n",
              "      <td>429</td>\n",
              "    </tr>\n",
              "    <tr>\n",
              "      <th>406</th>\n",
              "      <td>Samsung</td>\n",
              "      <td>Galaxy S10 Lite</td>\n",
              "      <td>128</td>\n",
              "      <td>6</td>\n",
              "      <td>6.7</td>\n",
              "      <td>48+12+5</td>\n",
              "      <td>4500</td>\n",
              "      <td>649</td>\n",
              "    </tr>\n",
              "  </tbody>\n",
              "</table>\n",
              "<p>407 rows × 8 columns</p>\n",
              "</div>\n",
              "      <button class=\"colab-df-convert\" onclick=\"convertToInteractive('df-ee79ab02-3e10-4b7a-bd0f-e06c62052694')\"\n",
              "              title=\"Convert this dataframe to an interactive table.\"\n",
              "              style=\"display:none;\">\n",
              "        \n",
              "  <svg xmlns=\"http://www.w3.org/2000/svg\" height=\"24px\"viewBox=\"0 0 24 24\"\n",
              "       width=\"24px\">\n",
              "    <path d=\"M0 0h24v24H0V0z\" fill=\"none\"/>\n",
              "    <path d=\"M18.56 5.44l.94 2.06.94-2.06 2.06-.94-2.06-.94-.94-2.06-.94 2.06-2.06.94zm-11 1L8.5 8.5l.94-2.06 2.06-.94-2.06-.94L8.5 2.5l-.94 2.06-2.06.94zm10 10l.94 2.06.94-2.06 2.06-.94-2.06-.94-.94-2.06-.94 2.06-2.06.94z\"/><path d=\"M17.41 7.96l-1.37-1.37c-.4-.4-.92-.59-1.43-.59-.52 0-1.04.2-1.43.59L10.3 9.45l-7.72 7.72c-.78.78-.78 2.05 0 2.83L4 21.41c.39.39.9.59 1.41.59.51 0 1.02-.2 1.41-.59l7.78-7.78 2.81-2.81c.8-.78.8-2.07 0-2.86zM5.41 20L4 18.59l7.72-7.72 1.47 1.35L5.41 20z\"/>\n",
              "  </svg>\n",
              "      </button>\n",
              "      \n",
              "  <style>\n",
              "    .colab-df-container {\n",
              "      display:flex;\n",
              "      flex-wrap:wrap;\n",
              "      gap: 12px;\n",
              "    }\n",
              "\n",
              "    .colab-df-convert {\n",
              "      background-color: #E8F0FE;\n",
              "      border: none;\n",
              "      border-radius: 50%;\n",
              "      cursor: pointer;\n",
              "      display: none;\n",
              "      fill: #1967D2;\n",
              "      height: 32px;\n",
              "      padding: 0 0 0 0;\n",
              "      width: 32px;\n",
              "    }\n",
              "\n",
              "    .colab-df-convert:hover {\n",
              "      background-color: #E2EBFA;\n",
              "      box-shadow: 0px 1px 2px rgba(60, 64, 67, 0.3), 0px 1px 3px 1px rgba(60, 64, 67, 0.15);\n",
              "      fill: #174EA6;\n",
              "    }\n",
              "\n",
              "    [theme=dark] .colab-df-convert {\n",
              "      background-color: #3B4455;\n",
              "      fill: #D2E3FC;\n",
              "    }\n",
              "\n",
              "    [theme=dark] .colab-df-convert:hover {\n",
              "      background-color: #434B5C;\n",
              "      box-shadow: 0px 1px 3px 1px rgba(0, 0, 0, 0.15);\n",
              "      filter: drop-shadow(0px 1px 2px rgba(0, 0, 0, 0.3));\n",
              "      fill: #FFFFFF;\n",
              "    }\n",
              "  </style>\n",
              "\n",
              "      <script>\n",
              "        const buttonEl =\n",
              "          document.querySelector('#df-ee79ab02-3e10-4b7a-bd0f-e06c62052694 button.colab-df-convert');\n",
              "        buttonEl.style.display =\n",
              "          google.colab.kernel.accessAllowed ? 'block' : 'none';\n",
              "\n",
              "        async function convertToInteractive(key) {\n",
              "          const element = document.querySelector('#df-ee79ab02-3e10-4b7a-bd0f-e06c62052694');\n",
              "          const dataTable =\n",
              "            await google.colab.kernel.invokeFunction('convertToInteractive',\n",
              "                                                     [key], {});\n",
              "          if (!dataTable) return;\n",
              "\n",
              "          const docLinkHtml = 'Like what you see? Visit the ' +\n",
              "            '<a target=\"_blank\" href=https://colab.research.google.com/notebooks/data_table.ipynb>data table notebook</a>'\n",
              "            + ' to learn more about interactive tables.';\n",
              "          element.innerHTML = '';\n",
              "          dataTable['output_type'] = 'display_data';\n",
              "          await google.colab.output.renderOutput(dataTable, element);\n",
              "          const docLink = document.createElement('div');\n",
              "          docLink.innerHTML = docLinkHtml;\n",
              "          element.appendChild(docLink);\n",
              "        }\n",
              "      </script>\n",
              "    </div>\n",
              "  </div>\n",
              "  "
            ]
          },
          "metadata": {},
          "execution_count": 36
        }
      ]
    },
    {
      "cell_type": "code",
      "source": [
        "data.select_dtypes(include='object').nunique()"
      ],
      "metadata": {
        "colab": {
          "base_uri": "https://localhost:8080/"
        },
        "id": "y9ljyISCystn",
        "outputId": "43716c28-f915-4950-948c-59a0cf6db5d9"
      },
      "execution_count": 37,
      "outputs": [
        {
          "output_type": "execute_result",
          "data": {
            "text/plain": [
              "Brand                    16\n",
              "Model                   239\n",
              "Storage                  13\n",
              "RAM                      20\n",
              "Screen Size (inches)     41\n",
              "Camera (MP)             143\n",
              "Price ($)                89\n",
              "dtype: int64"
            ]
          },
          "metadata": {},
          "execution_count": 37
        }
      ]
    },
    {
      "cell_type": "code",
      "source": [
        "data.shape"
      ],
      "metadata": {
        "colab": {
          "base_uri": "https://localhost:8080/"
        },
        "id": "MVicZ45azBfX",
        "outputId": "dda53dcc-898c-4a66-8964-14213e47d302"
      },
      "execution_count": 38,
      "outputs": [
        {
          "output_type": "execute_result",
          "data": {
            "text/plain": [
              "(407, 8)"
            ]
          },
          "metadata": {},
          "execution_count": 38
        }
      ]
    },
    {
      "cell_type": "code",
      "source": [
        "data.drop(columns='Model', inplace=True)\n",
        "data.shape"
      ],
      "metadata": {
        "colab": {
          "base_uri": "https://localhost:8080/"
        },
        "id": "6Wdf5z7FzFcJ",
        "outputId": "421c5f3b-9d2f-48b2-97ce-89d17852c23a"
      },
      "execution_count": 39,
      "outputs": [
        {
          "output_type": "execute_result",
          "data": {
            "text/plain": [
              "(407, 7)"
            ]
          },
          "metadata": {},
          "execution_count": 39
        }
      ]
    },
    {
      "cell_type": "code",
      "source": [
        "data['Price ($)'] = data['Price ($)'].str.replace(',', '').str.replace('$', '')\n",
        "data['new Price ($)'] = pd.to_numeric(data['Price ($)'])\n",
        "data.head()"
      ],
      "metadata": {
        "colab": {
          "base_uri": "https://localhost:8080/",
          "height": 241
        },
        "id": "7Gp4c_q_zM1r",
        "outputId": "d47cd0a5-463f-40ef-8e4e-d2f9d4940f22"
      },
      "execution_count": 40,
      "outputs": [
        {
          "output_type": "stream",
          "name": "stderr",
          "text": [
            "<ipython-input-40-9780fe9f724d>:1: FutureWarning: The default value of regex will change from True to False in a future version. In addition, single character regular expressions will *not* be treated as literal strings when regex=True.\n",
            "  data['Price ($)'] = data['Price ($)'].str.replace(',', '').str.replace('$', '')\n"
          ]
        },
        {
          "output_type": "execute_result",
          "data": {
            "text/plain": [
              "     Brand Storage    RAM  Screen Size (inches)         Camera (MP)  \\\n",
              "0    Apple   128 GB   6 GB                  6.1        12 + 12 + 12   \n",
              "1  Samsung   256 GB  12 GB                  6.8  108 + 10 + 10 + 12   \n",
              "2  OnePlus   128 GB   8 GB                  6.7     48 + 50 + 8 + 2   \n",
              "3   Xiaomi   128 GB   6 GB                 6.67      64 + 8 + 5 + 2   \n",
              "4   Google   128 GB   8 GB                  6.4           50 + 12.2   \n",
              "\n",
              "   Battery Capacity (mAh) Price ($)  new Price ($)  \n",
              "0                    3095       999            999  \n",
              "1                    5000      1199           1199  \n",
              "2                    4500       899            899  \n",
              "3                    5020       279            279  \n",
              "4                    4614       799            799  "
            ],
            "text/html": [
              "\n",
              "  <div id=\"df-0eb04117-76fa-4e19-9952-759b935edc6c\">\n",
              "    <div class=\"colab-df-container\">\n",
              "      <div>\n",
              "<style scoped>\n",
              "    .dataframe tbody tr th:only-of-type {\n",
              "        vertical-align: middle;\n",
              "    }\n",
              "\n",
              "    .dataframe tbody tr th {\n",
              "        vertical-align: top;\n",
              "    }\n",
              "\n",
              "    .dataframe thead th {\n",
              "        text-align: right;\n",
              "    }\n",
              "</style>\n",
              "<table border=\"1\" class=\"dataframe\">\n",
              "  <thead>\n",
              "    <tr style=\"text-align: right;\">\n",
              "      <th></th>\n",
              "      <th>Brand</th>\n",
              "      <th>Storage</th>\n",
              "      <th>RAM</th>\n",
              "      <th>Screen Size (inches)</th>\n",
              "      <th>Camera (MP)</th>\n",
              "      <th>Battery Capacity (mAh)</th>\n",
              "      <th>Price ($)</th>\n",
              "      <th>new Price ($)</th>\n",
              "    </tr>\n",
              "  </thead>\n",
              "  <tbody>\n",
              "    <tr>\n",
              "      <th>0</th>\n",
              "      <td>Apple</td>\n",
              "      <td>128 GB</td>\n",
              "      <td>6 GB</td>\n",
              "      <td>6.1</td>\n",
              "      <td>12 + 12 + 12</td>\n",
              "      <td>3095</td>\n",
              "      <td>999</td>\n",
              "      <td>999</td>\n",
              "    </tr>\n",
              "    <tr>\n",
              "      <th>1</th>\n",
              "      <td>Samsung</td>\n",
              "      <td>256 GB</td>\n",
              "      <td>12 GB</td>\n",
              "      <td>6.8</td>\n",
              "      <td>108 + 10 + 10 + 12</td>\n",
              "      <td>5000</td>\n",
              "      <td>1199</td>\n",
              "      <td>1199</td>\n",
              "    </tr>\n",
              "    <tr>\n",
              "      <th>2</th>\n",
              "      <td>OnePlus</td>\n",
              "      <td>128 GB</td>\n",
              "      <td>8 GB</td>\n",
              "      <td>6.7</td>\n",
              "      <td>48 + 50 + 8 + 2</td>\n",
              "      <td>4500</td>\n",
              "      <td>899</td>\n",
              "      <td>899</td>\n",
              "    </tr>\n",
              "    <tr>\n",
              "      <th>3</th>\n",
              "      <td>Xiaomi</td>\n",
              "      <td>128 GB</td>\n",
              "      <td>6 GB</td>\n",
              "      <td>6.67</td>\n",
              "      <td>64 + 8 + 5 + 2</td>\n",
              "      <td>5020</td>\n",
              "      <td>279</td>\n",
              "      <td>279</td>\n",
              "    </tr>\n",
              "    <tr>\n",
              "      <th>4</th>\n",
              "      <td>Google</td>\n",
              "      <td>128 GB</td>\n",
              "      <td>8 GB</td>\n",
              "      <td>6.4</td>\n",
              "      <td>50 + 12.2</td>\n",
              "      <td>4614</td>\n",
              "      <td>799</td>\n",
              "      <td>799</td>\n",
              "    </tr>\n",
              "  </tbody>\n",
              "</table>\n",
              "</div>\n",
              "      <button class=\"colab-df-convert\" onclick=\"convertToInteractive('df-0eb04117-76fa-4e19-9952-759b935edc6c')\"\n",
              "              title=\"Convert this dataframe to an interactive table.\"\n",
              "              style=\"display:none;\">\n",
              "        \n",
              "  <svg xmlns=\"http://www.w3.org/2000/svg\" height=\"24px\"viewBox=\"0 0 24 24\"\n",
              "       width=\"24px\">\n",
              "    <path d=\"M0 0h24v24H0V0z\" fill=\"none\"/>\n",
              "    <path d=\"M18.56 5.44l.94 2.06.94-2.06 2.06-.94-2.06-.94-.94-2.06-.94 2.06-2.06.94zm-11 1L8.5 8.5l.94-2.06 2.06-.94-2.06-.94L8.5 2.5l-.94 2.06-2.06.94zm10 10l.94 2.06.94-2.06 2.06-.94-2.06-.94-.94-2.06-.94 2.06-2.06.94z\"/><path d=\"M17.41 7.96l-1.37-1.37c-.4-.4-.92-.59-1.43-.59-.52 0-1.04.2-1.43.59L10.3 9.45l-7.72 7.72c-.78.78-.78 2.05 0 2.83L4 21.41c.39.39.9.59 1.41.59.51 0 1.02-.2 1.41-.59l7.78-7.78 2.81-2.81c.8-.78.8-2.07 0-2.86zM5.41 20L4 18.59l7.72-7.72 1.47 1.35L5.41 20z\"/>\n",
              "  </svg>\n",
              "      </button>\n",
              "      \n",
              "  <style>\n",
              "    .colab-df-container {\n",
              "      display:flex;\n",
              "      flex-wrap:wrap;\n",
              "      gap: 12px;\n",
              "    }\n",
              "\n",
              "    .colab-df-convert {\n",
              "      background-color: #E8F0FE;\n",
              "      border: none;\n",
              "      border-radius: 50%;\n",
              "      cursor: pointer;\n",
              "      display: none;\n",
              "      fill: #1967D2;\n",
              "      height: 32px;\n",
              "      padding: 0 0 0 0;\n",
              "      width: 32px;\n",
              "    }\n",
              "\n",
              "    .colab-df-convert:hover {\n",
              "      background-color: #E2EBFA;\n",
              "      box-shadow: 0px 1px 2px rgba(60, 64, 67, 0.3), 0px 1px 3px 1px rgba(60, 64, 67, 0.15);\n",
              "      fill: #174EA6;\n",
              "    }\n",
              "\n",
              "    [theme=dark] .colab-df-convert {\n",
              "      background-color: #3B4455;\n",
              "      fill: #D2E3FC;\n",
              "    }\n",
              "\n",
              "    [theme=dark] .colab-df-convert:hover {\n",
              "      background-color: #434B5C;\n",
              "      box-shadow: 0px 1px 3px 1px rgba(0, 0, 0, 0.15);\n",
              "      filter: drop-shadow(0px 1px 2px rgba(0, 0, 0, 0.3));\n",
              "      fill: #FFFFFF;\n",
              "    }\n",
              "  </style>\n",
              "\n",
              "      <script>\n",
              "        const buttonEl =\n",
              "          document.querySelector('#df-0eb04117-76fa-4e19-9952-759b935edc6c button.colab-df-convert');\n",
              "        buttonEl.style.display =\n",
              "          google.colab.kernel.accessAllowed ? 'block' : 'none';\n",
              "\n",
              "        async function convertToInteractive(key) {\n",
              "          const element = document.querySelector('#df-0eb04117-76fa-4e19-9952-759b935edc6c');\n",
              "          const dataTable =\n",
              "            await google.colab.kernel.invokeFunction('convertToInteractive',\n",
              "                                                     [key], {});\n",
              "          if (!dataTable) return;\n",
              "\n",
              "          const docLinkHtml = 'Like what you see? Visit the ' +\n",
              "            '<a target=\"_blank\" href=https://colab.research.google.com/notebooks/data_table.ipynb>data table notebook</a>'\n",
              "            + ' to learn more about interactive tables.';\n",
              "          element.innerHTML = '';\n",
              "          dataTable['output_type'] = 'display_data';\n",
              "          await google.colab.output.renderOutput(dataTable, element);\n",
              "          const docLink = document.createElement('div');\n",
              "          docLink.innerHTML = docLinkHtml;\n",
              "          element.appendChild(docLink);\n",
              "        }\n",
              "      </script>\n",
              "    </div>\n",
              "  </div>\n",
              "  "
            ]
          },
          "metadata": {},
          "execution_count": 40
        }
      ]
    },
    {
      "cell_type": "markdown",
      "source": [
        "# Exploratory Data Analysis\n"
      ],
      "metadata": {
        "id": "k3K7GuTK5Z_u"
      }
    },
    {
      "cell_type": "code",
      "source": [
        "data.dtypes"
      ],
      "metadata": {
        "colab": {
          "base_uri": "https://localhost:8080/"
        },
        "id": "XXyi7Y4Izoed",
        "outputId": "7ddeb08e-c92a-48c6-b44f-702179dd9189"
      },
      "execution_count": 41,
      "outputs": [
        {
          "output_type": "execute_result",
          "data": {
            "text/plain": [
              "Brand                     object\n",
              "Storage                   object\n",
              "RAM                       object\n",
              "Screen Size (inches)      object\n",
              "Camera (MP)               object\n",
              "Battery Capacity (mAh)     int64\n",
              "Price ($)                 object\n",
              "new Price ($)              int64\n",
              "dtype: object"
            ]
          },
          "metadata": {},
          "execution_count": 41
        }
      ]
    },
    {
      "cell_type": "code",
      "source": [
        "data['Brand'].unique()"
      ],
      "metadata": {
        "colab": {
          "base_uri": "https://localhost:8080/"
        },
        "id": "pDkZ_DVH0nbM",
        "outputId": "9eeaa87e-f2db-4dfe-d95a-c9881d30ddc0"
      },
      "execution_count": 42,
      "outputs": [
        {
          "output_type": "execute_result",
          "data": {
            "text/plain": [
              "array(['Apple', 'Samsung', 'OnePlus', 'Xiaomi', 'Google', 'Oppo', 'Vivo',\n",
              "       'Realme', 'Motorola', 'Nokia', 'Sony', 'LG', 'Asus', 'Blackberry',\n",
              "       'CAT', 'Huawei'], dtype=object)"
            ]
          },
          "metadata": {},
          "execution_count": 42
        }
      ]
    },
    {
      "cell_type": "code",
      "source": [
        "def segment_brand(brand):\n",
        "  if pd.isnull(brand):\n",
        "    return 'Unknown'\n",
        "  elif 'Samsung' in brand or 'OnePlus' in brand or 'Xiaomi' in brand or 'Google' in brand or 'Oppo' in brand or 'Realme' in brand or 'Motorola' in brand or 'Nokia' in brand or 'Sony' in brand or 'LG' in brand or 'Asus' in brand or 'Blackberry' in brand or 'CAT' in brand or 'Huawei' in brand:\n",
        "    return 'Android'\n",
        "  elif 'Apple' in brand:\n",
        "    return 'Apple'\n",
        "\n",
        "\n",
        "\n",
        "\n",
        "data['new Brand'] = data['Brand'].apply(segment_brand)\n",
        "\n"
      ],
      "metadata": {
        "id": "3eKLjb6Q0zz4"
      },
      "execution_count": 43,
      "outputs": []
    },
    {
      "cell_type": "code",
      "source": [
        "plt.figure(figsize = (10, 5))\n",
        "data['new Brand'].value_counts().plot(kind='bar')"
      ],
      "metadata": {
        "colab": {
          "base_uri": "https://localhost:8080/",
          "height": 511
        },
        "id": "rjfpWs2a3Iwt",
        "outputId": "1cc49b68-5df3-4105-ff95-9f4444c0afb3"
      },
      "execution_count": 44,
      "outputs": [
        {
          "output_type": "execute_result",
          "data": {
            "text/plain": [
              "<Axes: >"
            ]
          },
          "metadata": {},
          "execution_count": 44
        },
        {
          "output_type": "display_data",
          "data": {
            "text/plain": [
              "<Figure size 1000x500 with 1 Axes>"
            ],
            "image/png": "[encoded data removed]"
          },
          "metadata": {}
        }
      ]
    },
    {
      "cell_type": "code",
      "source": [
        "data['Battery Capacity (mAh)'].dtypes"
      ],
      "metadata": {
        "colab": {
          "base_uri": "https://localhost:8080/"
        },
        "id": "KEXyDqLh_dSv",
        "outputId": "aa8a9932-c5f6-450a-b791-3003e4941187"
      },
      "execution_count": 52,
      "outputs": [
        {
          "output_type": "execute_result",
          "data": {
            "text/plain": [
              "dtype('int64')"
            ]
          },
          "metadata": {},
          "execution_count": 52
        }
      ]
    },
    {
      "cell_type": "code",
      "source": [
        "def segment_battery_types(battery):\n",
        "  if pd.isnull(battery):\n",
        "    return 'Unknown'\n",
        "  elif battery > 4000:\n",
        "    return 'high end'\n",
        "  else:\n",
        "    return 'lower end'\n",
        "\n",
        "data['new battery'] = data['Battery Capacity (mAh)'].apply(segment_battery_types)"
      ],
      "metadata": {
        "id": "iW0Rl8Ju3Ud7"
      },
      "execution_count": 46,
      "outputs": []
    },
    {
      "cell_type": "code",
      "source": [
        "data.dtypes"
      ],
      "metadata": {
        "colab": {
          "base_uri": "https://localhost:8080/"
        },
        "id": "NtEgqfjWCAia",
        "outputId": "76dceb53-6e86-4df6-a892-cdb1e727d10a"
      },
      "execution_count": 47,
      "outputs": [
        {
          "output_type": "execute_result",
          "data": {
            "text/plain": [
              "Brand                     object\n",
              "Storage                   object\n",
              "RAM                       object\n",
              "Screen Size (inches)      object\n",
              "Camera (MP)               object\n",
              "Battery Capacity (mAh)     int64\n",
              "Price ($)                 object\n",
              "new Price ($)              int64\n",
              "new Brand                 object\n",
              "new battery               object\n",
              "dtype: object"
            ]
          },
          "metadata": {},
          "execution_count": 47
        }
      ]
    },
    {
      "cell_type": "code",
      "source": [
        "data['new battery'].head()"
      ],
      "metadata": {
        "colab": {
          "base_uri": "https://localhost:8080/"
        },
        "id": "MY6jaCoiCDcl",
        "outputId": "c3ab8731-1043-4c4b-f8a9-2ace516ab3bb"
      },
      "execution_count": 48,
      "outputs": [
        {
          "output_type": "execute_result",
          "data": {
            "text/plain": [
              "0    lower end\n",
              "1     high end\n",
              "2     high end\n",
              "3     high end\n",
              "4     high end\n",
              "Name: new battery, dtype: object"
            ]
          },
          "metadata": {},
          "execution_count": 48
        }
      ]
    },
    {
      "cell_type": "code",
      "source": [
        "plt.figure(figsize = (10, 5))\n",
        "data['new battery'].value_counts().plot(kind='bar')"
      ],
      "metadata": {
        "colab": {
          "base_uri": "https://localhost:8080/",
          "height": 533
        },
        "id": "j5fXiPbtDz_f",
        "outputId": "cafa1eba-5ca0-44be-8542-258ded609b11"
      },
      "execution_count": 49,
      "outputs": [
        {
          "output_type": "execute_result",
          "data": {
            "text/plain": [
              "<Axes: >"
            ]
          },
          "metadata": {},
          "execution_count": 49
        },
        {
          "output_type": "display_data",
          "data": {
            "text/plain": [
              "<Figure size 1000x500 with 1 Axes>"
            ],
            "image/png": "[encoded data removed]"
          },
          "metadata": {}
        }
      ]
    },
    {
      "cell_type": "code",
      "source": [
        "data['Screen Size (inches)']\n",
        "\n",
        "data['new Screen Size'] = pd.to_numeric(data['Screen Size (inches)'], errors = \"coerce\")"
      ],
      "metadata": {
        "id": "8R9DeOVqH2rI"
      },
      "execution_count": 55,
      "outputs": []
    },
    {
      "cell_type": "code",
      "source": [
        "def segment_screen(screen):\n",
        "  # if pd.isnull(screen):\n",
        "  #   return \"Unknown\"\n",
        "  # elif (screen > 4) and (screen < 6):\n",
        "  #   return \"smoll\"\n",
        "  # elif screen >6 and screen < 7:\n",
        "  #   return \"medium\"\n",
        "  # elif screen > 7 and screen < 9:\n",
        "  #   return \"big big\" \n",
        "\n",
        "  if pd.isnull(screen):\n",
        "    return \"Unknown\"\n",
        "  elif screen > 5 and screen < 6:\n",
        "    return \"smoll\"\n",
        "  elif screen > 6 and screen < 7:\n",
        "    return \"medium\"\n",
        "  elif screen > 7:\n",
        "    return \"big big\"\n",
        "  \n",
        "\n",
        "# data['new Screen Size (inches)'] = float(data['Screen Size (inches)']).apply(segment_screen)\n",
        "data['new Screen Size (inches)'] = data['new Screen Size'].apply(segment_screen)"
      ],
      "metadata": {
        "id": "bd7GfgYAD7CH"
      },
      "execution_count": 56,
      "outputs": []
    },
    {
      "cell_type": "code",
      "source": [
        "plt.figure(figsize = (10, 5))\n",
        "data['new Screen Size (inches)'].value_counts().plot(kind='bar')"
      ],
      "metadata": {
        "colab": {
          "base_uri": "https://localhost:8080/",
          "height": 524
        },
        "id": "IeguYLn4IWlE",
        "outputId": "d8735504-7cad-4a4b-ebd7-985a8e77b0ca"
      },
      "execution_count": 58,
      "outputs": [
        {
          "output_type": "execute_result",
          "data": {
            "text/plain": [
              "<Axes: >"
            ]
          },
          "metadata": {},
          "execution_count": 58
        },
        {
          "output_type": "display_data",
          "data": {
            "text/plain": [
              "<Figure size 1000x500 with 1 Axes>"
            ],
            "image/png": "[encoded data removed]"
          },
          "metadata": {}
        }
      ]
    },
    {
      "cell_type": "code",
      "source": [],
      "metadata": {
        "id": "iJ-n7ra9489g"
      },
      "execution_count": null,
      "outputs": []
    },
    {
      "cell_type": "markdown",
      "source": [
        "#To do\n",
        "\n",
        "predict price using machine learning algorithm"
      ],
      "metadata": {
        "id": "5qtnPva38Xew"
      }
    },
    {
      "cell_type": "code",
      "source": [],
      "metadata": {
        "id": "90b5DUar8YlX"
      },
      "execution_count": null,
      "outputs": []
    }
  ]
}